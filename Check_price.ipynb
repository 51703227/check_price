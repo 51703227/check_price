{
  "nbformat": 4,
  "nbformat_minor": 0,
  "metadata": {
    "colab": {
      "name": "Check_price.ipynb",
      "provenance": [],
      "collapsed_sections": []
    },
    "kernelspec": {
      "name": "python3",
      "display_name": "Python 3"
    },
    "language_info": {
      "name": "python"
    }
  },
  "cells": [
    {
      "cell_type": "code",
      "metadata": {
        "id": "zPewWLHWNaou"
      },
      "source": [
        "#from collections import Counter, defaultdict\n",
        "#import unicodedata as ud\n",
        "import pandas as pd\n",
        "import numpy as np\n",
        "#import math\n",
        "#import ast\n",
        "import re"
      ],
      "execution_count": 15,
      "outputs": []
    },
    {
      "cell_type": "code",
      "metadata": {
        "id": "Vh_8dGjJ5OXz"
      },
      "source": [
        "def filterSentences(sentence):\n",
        "  return sentence != '\\n'\n",
        "\n",
        "def re_format(sentence):\n",
        "    return '\\t'.join(sentence.split('/')) + '\\n'"
      ],
      "execution_count": 16,
      "outputs": []
    },
    {
      "cell_type": "code",
      "metadata": {
        "id": "fjKf785xhp4b",
        "colab": {
          "base_uri": "https://localhost:8080/"
        },
        "outputId": "923a7564-9874-4231-9569-14837955f8f8"
      },
      "source": [
        "sentences = \"iPhone 12 Pro Max | Chính hãng VN/A \"\n",
        "print(sentences)\n",
        "\n",
        "#sentences = open('train.pos', encoding='utf-8').readlines()\n",
        "#sentences = list(filter(filterSentences, sentences))\n",
        "#sentences = ' '.join(sentences)\n",
        "\n",
        "pattern = r'([^Chính hãng,VN/A])\\w+'\n",
        "\n",
        "matches = re.finditer(pattern, sentences)\n",
        "sentences = [x.group() for x in matches]\n",
        "\n",
        "sentences = list(map(re_format, sentences))\n",
        "\n",
        "print(sentences)\n",
        "\n",
        "\n"
      ],
      "execution_count": 20,
      "outputs": [
        {
          "output_type": "stream",
          "text": [
            "iPhone 12 Pro Max | Chính hãng VN/A \n",
            "['iPhone\\n', '12\\n', 'Pro\\n', 'Max\\n']\n"
          ],
          "name": "stdout"
        }
      ]
    },
    {
      "cell_type": "code",
      "metadata": {
        "id": "avYfj8ywBY4e"
      },
      "source": [
        ""
      ],
      "execution_count": null,
      "outputs": []
    }
  ]
}